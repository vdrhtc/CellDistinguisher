{
 "metadata": {
  "name": ""
 },
 "nbformat": 3,
 "nbformat_minor": 0,
 "worksheets": [
  {
   "cells": [
    {
     "cell_type": "heading",
     "level": 1,
     "metadata": {},
     "source": [
      "Cell distinguisher"
     ]
    },
    {
     "cell_type": "code",
     "collapsed": false,
     "input": [
      "%pylab inline"
     ],
     "language": "python",
     "metadata": {},
     "outputs": [
      {
       "output_type": "stream",
       "stream": "stdout",
       "text": [
        "Populating the interactive namespace from numpy and matplotlib\n"
       ]
      }
     ],
     "prompt_number": 11
    },
    {
     "cell_type": "code",
     "collapsed": false,
     "input": [
      "pixel_size = 1e-6/70"
     ],
     "language": "python",
     "metadata": {},
     "outputs": [],
     "prompt_number": 2
    },
    {
     "cell_type": "code",
     "collapsed": false,
     "input": [
      "im = Image.open('1_01.tif')\n",
      "im.show()"
     ],
     "language": "python",
     "metadata": {},
     "outputs": [],
     "prompt_number": 19
    },
    {
     "cell_type": "code",
     "collapsed": false,
     "input": [
      "altered_im = get_cells_from_image(im, (100, 100) , (im.getbbox()[2]-100, im.getbbox()[3]-200), pixel_size, 80)"
     ],
     "language": "python",
     "metadata": {},
     "outputs": [],
     "prompt_number": 3
    },
    {
     "cell_type": "code",
     "collapsed": false,
     "input": [
      "len(cells)"
     ],
     "language": "python",
     "metadata": {},
     "outputs": [
      {
       "metadata": {},
       "output_type": "pyout",
       "prompt_number": 4,
       "text": [
        "3626"
       ]
      }
     ],
     "prompt_number": 4
    },
    {
     "cell_type": "code",
     "collapsed": false,
     "input": [
      "altered_im.show()"
     ],
     "language": "python",
     "metadata": {},
     "outputs": [],
     "prompt_number": 10
    },
    {
     "cell_type": "code",
     "collapsed": false,
     "input": [
      "sizes = [cell.first_norm() for cell in cells]"
     ],
     "language": "python",
     "metadata": {},
     "outputs": [],
     "prompt_number": 5
    },
    {
     "cell_type": "code",
     "collapsed": false,
     "input": [
      "plt.hist(sizes, 50)\n",
      "mean(sizes)"
     ],
     "language": "python",
     "metadata": {},
     "outputs": [
      {
       "metadata": {},
       "output_type": "pyout",
       "prompt_number": 6,
       "text": [
        "1.0925517517334669e-07"
       ]
      },
      {
       "metadata": {},
       "output_type": "display_data",
       "png": "[encoded data removed]",
       "text": [
        "<matplotlib.figure.Figure at 0xb06782ec>"
       ]
      }
     ],
     "prompt_number": 6
    },
    {
     "cell_type": "code",
     "collapsed": false,
     "input": [
      "import sys\n",
      "sys.path.append('src')\n",
      "from PIL import Image, ImageFilter\n",
      "from cell_distinguisher.distinguisher import *\n",
      "from line_distinguisher.distinguisher import *"
     ],
     "language": "python",
     "metadata": {},
     "outputs": [],
     "prompt_number": 1
    },
    {
     "cell_type": "heading",
     "level": 1,
     "metadata": {},
     "source": [
      "Line distinguisher"
     ]
    },
    {
     "cell_type": "code",
     "collapsed": false,
     "input": [
      "im1 = Image.open('1_10.tif').crop((0, 0, 1024, 600))\n",
      "# im1.show()"
     ],
     "language": "python",
     "metadata": {},
     "outputs": [],
     "prompt_number": 2
    },
    {
     "cell_type": "code",
     "collapsed": false,
     "input": [
      "slices = prepare_image(image1, 200, 80)"
     ],
     "language": "python",
     "metadata": {},
     "outputs": [],
     "prompt_number": 7
    },
    {
     "cell_type": "code",
     "collapsed": false,
     "input": [
      "slices[1].show()"
     ],
     "language": "python",
     "metadata": {},
     "outputs": [],
     "prompt_number": 8
    },
    {
     "cell_type": "code",
     "collapsed": false,
     "input": [
      "coeffs = get_lines(slices, (0.0001, 0.0001))"
     ],
     "language": "python",
     "metadata": {},
     "outputs": [
      {
       "output_type": "stream",
       "stream": "stdout",
       "text": [
        "Getting coefficients...\n"
       ]
      },
      {
       "output_type": "stream",
       "stream": "stdout",
       "text": [
        "Processing  20 points.\n",
        "\r",
        "0, 0"
       ]
      },
      {
       "output_type": "stream",
       "stream": "stdout",
       "text": [
        "\r",
        "10, 1"
       ]
      },
      {
       "output_type": "stream",
       "stream": "stdout",
       "text": [
        "\r",
        "22, 2"
       ]
      },
      {
       "output_type": "stream",
       "stream": "stdout",
       "text": [
        "\r",
        "34, 3"
       ]
      },
      {
       "output_type": "stream",
       "stream": "stdout",
       "text": [
        "\r",
        "45, 4"
       ]
      },
      {
       "output_type": "stream",
       "stream": "stdout",
       "text": [
        "\r",
        "49, 5"
       ]
      },
      {
       "output_type": "stream",
       "stream": "stdout",
       "text": [
        "\r",
        "59, 6"
       ]
      },
      {
       "output_type": "stream",
       "stream": "stdout",
       "text": [
        "\r",
        "68, 7"
       ]
      },
      {
       "output_type": "stream",
       "stream": "stdout",
       "text": [
        "\r",
        "76, 8"
       ]
      },
      {
       "output_type": "stream",
       "stream": "stdout",
       "text": [
        "\r",
        "79, 9"
       ]
      },
      {
       "output_type": "stream",
       "stream": "stdout",
       "text": [
        "\r",
        "86, 10"
       ]
      },
      {
       "output_type": "stream",
       "stream": "stdout",
       "text": [
        "\r",
        "92, 11"
       ]
      },
      {
       "output_type": "stream",
       "stream": "stdout",
       "text": [
        "\r",
        "97, 12"
       ]
      },
      {
       "output_type": "stream",
       "stream": "stdout",
       "text": [
        "\r",
        "99, 13"
       ]
      },
      {
       "output_type": "stream",
       "stream": "stdout",
       "text": [
        "\r",
        "103, 14"
       ]
      },
      {
       "output_type": "stream",
       "stream": "stdout",
       "text": [
        "\r",
        "106, 15"
       ]
      },
      {
       "output_type": "stream",
       "stream": "stdout",
       "text": [
        "\r",
        "108, 16"
       ]
      },
      {
       "output_type": "stream",
       "stream": "stdout",
       "text": [
        "\r",
        "109, 17"
       ]
      },
      {
       "output_type": "stream",
       "stream": "stdout",
       "text": [
        "\r",
        "110, 18"
       ]
      },
      {
       "output_type": "stream",
       "stream": "stdout",
       "text": [
        "\r",
        "111, 19"
       ]
      }
     ],
     "prompt_number": 9
    },
    {
     "cell_type": "code",
     "collapsed": false,
     "input": [
      "mean_coeff = mean([coeff.get_counter() for coeff in coeffs])\n",
      "[coeff.get_counter() for coeff in coeffs]"
     ],
     "language": "python",
     "metadata": {},
     "outputs": [
      {
       "metadata": {},
       "output_type": "pyout",
       "prompt_number": 16,
       "text": [
        "[1,\n",
        " 1,\n",
        " 1,\n",
        " 1,\n",
        " 1,\n",
        " 1,\n",
        " 1,\n",
        " 1,\n",
        " 1,\n",
        " 1,\n",
        " 1,\n",
        " 0,\n",
        " 0,\n",
        " 1,\n",
        " 0,\n",
        " 0,\n",
        " 1,\n",
        " 0,\n",
        " 0,\n",
        " 1,\n",
        " 1,\n",
        " 1,\n",
        " 1,\n",
        " 1,\n",
        " 1,\n",
        " 1,\n",
        " 1,\n",
        " 1,\n",
        " 1,\n",
        " 1,\n",
        " 1,\n",
        " 1,\n",
        " 1,\n",
        " 0,\n",
        " 1,\n",
        " 0,\n",
        " 0,\n",
        " 1,\n",
        " 0,\n",
        " 0,\n",
        " 1,\n",
        " 0,\n",
        " 0,\n",
        " 1,\n",
        " 0,\n",
        " 1,\n",
        " 1,\n",
        " 1,\n",
        " 1,\n",
        " 1,\n",
        " 0,\n",
        " 0,\n",
        " 1,\n",
        " 0,\n",
        " 0,\n",
        " 1,\n",
        " 0,\n",
        " 0,\n",
        " 1,\n",
        " 1,\n",
        " 1,\n",
        " 1,\n",
        " 1,\n",
        " 1,\n",
        " 1,\n",
        " 1,\n",
        " 1,\n",
        " 0,\n",
        " 1,\n",
        " 0,\n",
        " 0,\n",
        " 1,\n",
        " 0,\n",
        " 0,\n",
        " 1,\n",
        " 0,\n",
        " 1,\n",
        " 1,\n",
        " 1,\n",
        " 1,\n",
        " 0,\n",
        " 0,\n",
        " 1,\n",
        " 0,\n",
        " 0,\n",
        " 1,\n",
        " 1,\n",
        " 1,\n",
        " 1,\n",
        " 1,\n",
        " 1,\n",
        " 0,\n",
        " 1,\n",
        " 0,\n",
        " 0,\n",
        " 1,\n",
        " 0,\n",
        " 1,\n",
        " 1,\n",
        " 1,\n",
        " 0,\n",
        " 0,\n",
        " 1,\n",
        " 1,\n",
        " 1,\n",
        " 0,\n",
        " 1,\n",
        " 0,\n",
        " 0,\n",
        " 0,\n",
        " 0]"
       ]
      }
     ],
     "prompt_number": 16
    },
    {
     "cell_type": "code",
     "collapsed": false,
     "input": [
      "image = Image.new(\"L\", (1000, 1000))\n",
      "interesting_points = []\n",
      "for coeff in coeffs:\n",
      "    level = 0\n",
      "    if coeff.get_counter() > 0 and coeff.get_counter()<30000:\n",
      "#         coordinates = (coeff.sum[0]/coeff.counter, coeff.sum[1]/coeff.counter)\n",
      "        coordinates = coeff.get_coordinates()\n",
      "        \n",
      "        interesting_points.append(coeff.get_coordinates())\n",
      "        print(coordinates)#(int(coeff.get_coordinates()[0]*1e3)+150, int(coeff.get_coordinates()[1]*7)+150))\n",
      "        level = coeff.get_counter()\n",
      "        image.putpixel((int(coordinates[0]*1e3)+550, int(coordinates[1]*3)+300), int(level*255))\n",
      "image.show()"
     ],
     "language": "python",
     "metadata": {},
     "outputs": [
      {
       "output_type": "stream",
       "stream": "stdout",
       "text": [
        "(0.16999999999999998, 140.0)\n",
        "(0.17666666666666667, 140.0)\n",
        "(0.178, 140.0)\n",
        "(0.17857142857142855, 140.0)\n",
        "(0.17888888888888888, 140.0)\n",
        "(0.17909090909090908, 140.0)\n",
        "(0.17923076923076922, 140.0)\n",
        "(0.17933333333333334, 140.0)\n",
        "(0.17941176470588235, 140.0)\n",
        "(0.1794736842105263, 140.0)\n",
        "(0.18, 139.0)\n",
        "(0.18, 139.0)\n",
        "(0.18, 139.0)\n",
        "(0.18, 139.0)\n",
        "(0.1812549019607843, 138.93725490196078)\n",
        "(0.18, 139.5)\n",
        "(0.16, 143.0)\n",
        "(0.17333333333333334, 141.0)\n",
        "(0.176, 140.60000000000002)\n",
        "(0.18, 140.0)\n",
        "(0.17714285714285713, 140.42857142857144)\n",
        "(0.17777777777777778, 140.33333333333334)\n",
        "(0.18, 140.0)\n",
        "(0.1781818181818182, 140.27272727272728)\n",
        "(0.17846153846153845, 140.23076923076923)\n",
        "(0.18, 140.0)\n",
        "(0.17866666666666667, 140.2)\n",
        "(0.18, 139.0)\n",
        "(0.18, 139.0)\n",
        "(0.18, 139.0)\n",
        "(0.18, 139.0)\n",
        "(0.18, 140.0)\n",
        "(0.18, 140.0)\n",
        "(0.18, 140.0)\n",
        "(0.18, 140.0)\n",
        "(0.18, 139.0)\n",
        "(0.18, 139.0)\n",
        "(0.18, 139.0)\n",
        "(0.18, 139.5)\n",
        "(0.16, 147.0)\n",
        "(0.17333333333333334, 142.33333333333331)\n",
        "(0.176, 141.4)\n",
        "(0.18, 140.0)\n",
        "(0.17714285714285713, 141.0)\n",
        "(0.17777777777777778, 140.77777777777777)\n",
        "(0.18, 140.0)\n",
        "(0.1781818181818182, 140.63636363636363)\n",
        "(0.18, 139.0)\n",
        "(0.18, 139.0)\n",
        "(0.18, 139.0)\n",
        "(0.18, 140.0)\n",
        "(0.18, 140.0)\n",
        "(0.18, 140.0)\n",
        "(0.18, 139.0)\n",
        "(0.18, 139.0)\n",
        "(0.18, 139.5)\n",
        "(0.16, 151.0)\n",
        "(0.17333333333333334, 143.66666666666666)\n",
        "(0.176, 142.2)\n",
        "(0.18, 140.0)\n",
        "(0.17714285714285713, 141.57142857142858)\n",
        "(0.18, 139.0)\n",
        "(0.18, 139.0)\n",
        "(0.18, 140.0)\n",
        "(0.18, 140.0)\n",
        "(0.18, 139.0)\n",
        "(0.18, 139.5)\n",
        "(0.16, 155.0)\n",
        "(0.17333333333333334, 145.0)\n",
        "(0.18, 139.0)\n"
       ]
      }
     ],
     "prompt_number": 14
    },
    {
     "cell_type": "code",
     "collapsed": false,
     "input": [
      "copy = slices[1].copy()"
     ],
     "language": "python",
     "metadata": {},
     "outputs": [],
     "prompt_number": 284
    },
    {
     "cell_type": "code",
     "collapsed": false,
     "input": [
      "for interesting_point in interesting_points:\n",
      "    for y in range(0, slices[1].getbbox()[3]):\n",
      "#         print(interesting_point, int(interesting_point[0]*y+interesting_point[1]), y)\n",
      "        if int(interesting_point[0]*y+interesting_point[1]) > 0 and int(interesting_point[0]*y+interesting_point[1]) < slices[1].getbbox()[2]:\n",
      "            slices[1].putpixel((int(interesting_point[0]*y+interesting_point[1]), y), 100)\n",
      "slices[1].show()"
     ],
     "language": "python",
     "metadata": {},
     "outputs": [],
     "prompt_number": 293
    },
    {
     "cell_type": "code",
     "collapsed": false,
     "input": [
      "slices[1] = copy.copy()"
     ],
     "language": "python",
     "metadata": {},
     "outputs": [],
     "prompt_number": 217
    },
    {
     "cell_type": "code",
     "collapsed": false,
     "input": [
      "slices[1].show()"
     ],
     "language": "python",
     "metadata": {},
     "outputs": [],
     "prompt_number": 218
    },
    {
     "cell_type": "code",
     "collapsed": false,
     "input": [
      "image1 = Image.new(\"L\", (1000, 1000))"
     ],
     "language": "python",
     "metadata": {},
     "outputs": [],
     "prompt_number": 4
    },
    {
     "cell_type": "code",
     "collapsed": false,
     "input": [
      "points = [(0.05, -260), (0.09, 270), (0.05, 480)]\n",
      "for point in points:\n",
      "    for y in range(0, 1000, 50):\n",
      "#         print(interesting_point, int(interesting_point[0]*y+interesting_point[1]), y)\n",
      "        if int(point[0]*y+point[1]) > 0 and int(point[0]*y+point[1]) < 1000:\n",
      "            image1.putpixel((int(point[0]*y+point[1]), y), 255)"
     ],
     "language": "python",
     "metadata": {},
     "outputs": [],
     "prompt_number": 5
    },
    {
     "cell_type": "code",
     "collapsed": false,
     "input": [
      "image1.show()"
     ],
     "language": "python",
     "metadata": {},
     "outputs": [],
     "prompt_number": 6
    },
    {
     "cell_type": "code",
     "collapsed": false,
     "input": [
      "copy.show()"
     ],
     "language": "python",
     "metadata": {},
     "outputs": [],
     "prompt_number": 129
    }
   ],
   "metadata": {}
  }
 ]
}